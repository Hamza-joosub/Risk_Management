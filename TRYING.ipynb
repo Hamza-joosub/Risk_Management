{
 "cells": [
  {
   "cell_type": "code",
   "execution_count": 1,
   "metadata": {},
   "outputs": [],
   "source": [
    "import yfinance as yf\n",
    "import pandas as pd\n",
    "import numpy as np\n",
    "import matplotlib.pyplot as plt\n",
    "import seaborn as sns\n",
    "from tqdm import tqdm, trange\n",
    "from sklearn.ensemble import RandomForestClassifier\n",
    "from sklearn.metrics import precision_score"
   ]
  },
  {
   "cell_type": "code",
   "execution_count": 2,
   "metadata": {},
   "outputs": [
    {
     "name": "stdout",
     "output_type": "stream",
     "text": [
      "[*********************100%%**********************]  3 of 3 completed\n"
     ]
    }
   ],
   "source": [
    "portfolio_tickers = [\"NVDA\",\"WRK\", \"AAPL\"]\n",
    "start = \"2023-01-30\"\n",
    "end = \"2023-10-30\"\n",
    "Interval = \"1d\"\n",
    "rawData = yf.download(tickers=portfolio_tickers,start=start, end =end, interval =Interval )"
   ]
  },
  {
   "cell_type": "code",
   "execution_count": null,
   "metadata": {},
   "outputs": [],
   "source": []
  },
  {
   "cell_type": "markdown",
   "metadata": {},
   "source": [
    "close_data_AAPL = rawData[\"Close\"][\"AAPL\"]\n",
    "close_data_AAPL_Frame_y = close_data_AAPL.to_frame()\n",
    "close_data_AAPL_Frame_x = close_data_AAPL_Frame_y.shift(-1)\n",
    "x_train = close_data_AAPL_Frame_x.iloc[:150]\n",
    "x_test = close_data_AAPL_Frame_x.iloc[150:]\n",
    "y_train = close_data_AAPL_Frame_y.iloc[:150]\n",
    "y_test = close_data_AAPL_Frame_y.iloc[150:]\n",
    "x_train_numpy = x_train.to_numpy()\n",
    "y_train_numpy = y_train.to_numpy()\n",
    "model = RandomForestClassifier(n_estimators=100, min_samples_split=100, random_state=1)\n",
    "#model.fit(x_train_numpy, y_train_numpy)"
   ]
  },
  {
   "cell_type": "code",
   "execution_count": 4,
   "metadata": {},
   "outputs": [
    {
     "ename": "NameError",
     "evalue": "name 'close_data_AAPL' is not defined",
     "output_type": "error",
     "traceback": [
      "\u001b[0;31m---------------------------------------------------------------------------\u001b[0m",
      "\u001b[0;31mNameError\u001b[0m                                 Traceback (most recent call last)",
      "\u001b[1;32m/Users/hamza/Documents/Fund/Risk_Management/TRYING.ipynb Cell 5\u001b[0m line \u001b[0;36m1\n\u001b[0;32m----> <a href='vscode-notebook-cell:/Users/hamza/Documents/Fund/Risk_Management/TRYING.ipynb#W4sZmlsZQ%3D%3D?line=0'>1</a>\u001b[0m close_data_AAPL[\u001b[39m4\u001b[39m]\n",
      "\u001b[0;31mNameError\u001b[0m: name 'close_data_AAPL' is not defined"
     ]
    }
   ],
   "source": [
    "close_data_AAPL[4]"
   ]
  },
  {
   "cell_type": "code",
   "execution_count": 167,
   "metadata": {},
   "outputs": [],
   "source": [
    "def Model(PriceNow, Price1Day, Price2Day, Price3Day):\n",
    "    if PriceNow > Price1Day and Price1Day > Price2Day and Price2Day > Price3Day:\n",
    "        position_size = 3\n",
    "        return True, position_size"
   ]
  },
  {
   "cell_type": "code",
   "execution_count": 5,
   "metadata": {},
   "outputs": [],
   "source": [
    "def BackTest(Model):\n",
    "    close_data_AAPL.plot()\n",
    "    plt.ylabel(\"Price\")\n",
    "    portfolio_trades = []\n",
    "    portfolio_Balance = 0\n",
    "    portfolio_Balance_OT = []\n",
    "    position = 0\n",
    "    profit_and_loss = 0\n",
    "    profit_and_loss_graph = []\n",
    "\n",
    "\n",
    "    for day in range(5, close_data_AAPL.size):\n",
    "        buy, position_size = Model(close_data_AAPL[day], close_data_AAPL[day -1], close_data_AAPL[day -2], close_data_AAPL[day -3])\n",
    "        if buy == True:\n",
    "            plt.axvline(close_data_AAPL.index[day])\n",
    "            for i in range(position_size):\n",
    "                portfolio_trades.append(close_data_AAPL[day])\n",
    "            portfolio_Balance = portfolio_Balance + close_data_AAPL[day]*position_size\n",
    "            portfolio_Balance_OT.append(portfolio_Balance)\n",
    "            position = position + position_size\n",
    "            continue\n",
    "        buy, position_size = Model(close_data_AAPL[day], close_data_AAPL[day -1], close_data_AAPL[day -2], close_data_AAPL[day -3])\n",
    "        \n",
    "        if close_data_AAPL[day] > close_data_AAPL[day -1] and close_data_AAPL[day -1] > close_data_AAPL[day -2]:\n",
    "            position_size = 1\n",
    "            plt.axvline(close_data_AAPL.index[day])\n",
    "            for i in range(position_size):\n",
    "                portfolio_trades.append(close_data_AAPL[day])\n",
    "            portfolio_Balance = portfolio_Balance + close_data_AAPL[day]*position_size\n",
    "            portfolio_Balance_OT.append(portfolio_Balance)\n",
    "            position = position + position_size\n",
    "            continue\n",
    "            \n",
    "        \n",
    "            \n",
    "        if close_data_AAPL[day] < close_data_AAPL[day -1] and position > 2:\n",
    "            position_size = 2\n",
    "            plt.axvline(close_data_AAPL.index[day])\n",
    "            #portfolio_trades.append(-close_data_AAPL[day])\n",
    "            portfolio_Balance = portfolio_Balance - close_data_AAPL[day]\n",
    "            portfolio_Balance_OT.append(portfolio_Balance)\n",
    "            position = position - position_size\n",
    "            for i in range(position_size):\n",
    "                profit_and_loss = profit_and_loss + (close_data_AAPL[day] - portfolio_trades.pop())\n",
    "            profit_and_loss_graph.append(profit_and_loss)\n",
    "            continue\n",
    "            \n",
    "    portfolio_Balance_OT_Frame = pd.DataFrame(portfolio_Balance_OT)\n",
    "    portfolio_Balance_OT_Frame.plot()\n",
    "    profit_and_loss_graph_Frame = pd.DataFrame(profit_and_loss_graph)\n",
    "    profit_and_loss_graph_Frame.plot()\n",
    "    print(f\"Position:  {position}\")\n",
    "    print(f\"Realised P&L:  {profit_and_loss}\")"
   ]
  },
  {
   "cell_type": "code",
   "execution_count": 7,
   "metadata": {},
   "outputs": [
    {
     "ename": "NameError",
     "evalue": "name 'Model' is not defined",
     "output_type": "error",
     "traceback": [
      "\u001b[0;31m---------------------------------------------------------------------------\u001b[0m",
      "\u001b[0;31mNameError\u001b[0m                                 Traceback (most recent call last)",
      "\u001b[1;32m/Users/hamza/Documents/Fund/Risk_Management/TRYING.ipynb Cell 8\u001b[0m line \u001b[0;36m1\n\u001b[0;32m----> <a href='vscode-notebook-cell:/Users/hamza/Documents/Fund/Risk_Management/TRYING.ipynb#X10sZmlsZQ%3D%3D?line=0'>1</a>\u001b[0m model \u001b[39m=\u001b[39m Model()\n\u001b[1;32m      <a href='vscode-notebook-cell:/Users/hamza/Documents/Fund/Risk_Management/TRYING.ipynb#X10sZmlsZQ%3D%3D?line=1'>2</a>\u001b[0m BackTest(Model\u001b[39m=\u001b[39mmodel)\n",
      "\u001b[0;31mNameError\u001b[0m: name 'Model' is not defined"
     ]
    }
   ],
   "source": [
    "model = Model()\n",
    "BackTest(Model=model)"
   ]
  }
 ],
 "metadata": {
  "kernelspec": {
   "display_name": "Python 3",
   "language": "python",
   "name": "python3"
  },
  "language_info": {
   "codemirror_mode": {
    "name": "ipython",
    "version": 3
   },
   "file_extension": ".py",
   "mimetype": "text/x-python",
   "name": "python",
   "nbconvert_exporter": "python",
   "pygments_lexer": "ipython3",
   "version": "3.11.5"
  }
 },
 "nbformat": 4,
 "nbformat_minor": 2
}
